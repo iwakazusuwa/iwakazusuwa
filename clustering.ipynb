{
 "cells": [
  {
   "cell_type": "code",
   "execution_count": null,
   "id": "4f90f611-d211-42d7-b9bb-991463268dee",
   "metadata": {},
   "outputs": [],
   "source": []
  },
  {
   "cell_type": "markdown",
   "id": "76dbe18d-86b2-450e-9102-e7d3253fdefa",
   "metadata": {},
   "source": [
    "# クラスタリング結果を　CSVファイルに出力する"
   ]
  },
  {
   "cell_type": "code",
   "execution_count": 6,
   "id": "ff697d1a-9d44-4360-a115-c98f2b183eb8",
   "metadata": {},
   "outputs": [
    {
     "name": "stdout",
     "output_type": "stream",
     "text": [
      "INFO:current_path:C:\\Users\\user\\iwaiwa\\0706_クラスタリング\\1_flow\n",
      "INFO:parent_path:C:\\Users\\user\\iwaiwa\\0706_クラスタリング\n",
      "INFO:input_path:C:\\Users\\user\\iwaiwa\\0706_クラスタリング\\2_data\\サンプルデータ.csv\n",
      "INFO:output_path:C:\\Users\\user\\iwaiwa\\0706_クラスタリング\\3_output\n"
     ]
    }
   ],
   "source": [
    "import pandas as pd\n",
    "import subprocess\n",
    "import os\n",
    "\n",
    "from scipy.cluster.hierarchy import linkage, dendrogram, fcluster\n",
    "import matplotlib.pyplot as plt\n",
    "import numpy as np\n",
    "\n",
    "#=============================================\n",
    "# Inputファイル情報\n",
    "#=============================================\n",
    "INPUT_folder = '2_data'        \n",
    "INPUT_DNAME = 'サンプルデータ.csv'\n",
    "#=============================================\n",
    "# Outputファイル情報\n",
    "#=============================================\n",
    "OUTPUT_folder = '3_output'\n",
    "#=============================================\n",
    "# カレントパス\n",
    "#=============================================\n",
    "current_dpath = os.getcwd()\n",
    "print('INFO:current_path:' + current_dpath)\n",
    "\n",
    "#=============================================\n",
    "# パレントパス\n",
    "#=============================================\n",
    "parent_dpath =os.path.sep.join(current_dpath.split(os.path.sep)[:-1])\n",
    "\n",
    "print('INFO:parent_path:' + parent_dpath)   \n",
    "\n",
    "#=============================================\n",
    "# Inputデータファイル Path\n",
    "#=============================================\n",
    "input_dpath =os.path.sep.join([parent_dpath + '\\\\' + INPUT_folder,INPUT_DNAME])\n",
    "print('INFO:input_path:' + input_dpath) \n",
    "\n",
    "#=============================================\n",
    "# Outputデータファイル Path\n",
    "#=============================================\n",
    "output_dpath =parent_dpath + '\\\\' + OUTPUT_folder\n",
    "print('INFO:output_path:' + output_dpath)   \n",
    "\n"
   ]
  },
  {
   "cell_type": "code",
   "execution_count": 7,
   "id": "4bce6054-8fc7-49d0-9552-108cd39b09d1",
   "metadata": {},
   "outputs": [],
   "source": [
    "#=============================================\n",
    "# サンプルデータ読み込む\n",
    "#=============================================\n",
    "df = pd.read_csv(input_dpath,encoding='shift-JIS')\n",
    "df = pd.DataFrame(df)\n"
   ]
  },
  {
   "cell_type": "code",
   "execution_count": 8,
   "id": "12915f13-3e5d-4834-b0dd-719848c3b6bb",
   "metadata": {},
   "outputs": [
    {
     "data": {
      "image/png": "[encoded data removed]",
      "text/plain": [
       "<Figure size 432x288 with 1 Axes>"
      ]
     },
     "metadata": {
      "needs_background": "light"
     },
     "output_type": "display_data"
    }
   ],
   "source": [
    "\n",
    "#=============================================\n",
    "# 分割の閾値設定\n",
    "#=============================================\n",
    "# ① クラスタリング位置指定　：　y軸 1500\n",
    "threshold_distance = 1500\n",
    "\n",
    "# ② クラスタリング数指定　 ：　8ケ\n",
    "criter = 8\n",
    "\n",
    "#=============================================\n",
    "# linkageの計算\n",
    "#============================================\n",
    "Z = linkage(df.iloc[:, 0:4], method='ward')\n",
    "\n",
    "\n",
    "#=============================================\n",
    "# linkageの最大距離を確認\n",
    "#=============================================\n",
    "#print(\"最大距離:\", np.max(Z[:, 2]))\n",
    "\n",
    "#=============================================\n",
    "# デンドログラムを描画\n",
    "#=============================================\n",
    "dendro = dendrogram(Z, labels=df[\"顧客ID\"].values)\n",
    "\n",
    "#=============================================\n",
    "# 閾値に赤ラインを入れる\n",
    "#=============================================\n",
    "plt.axhline(y=threshold_distance, color='red', linestyle='--')\n",
    "plt.rcParams[\"font.size\"] = 10\n",
    "\n",
    "#=============================================\n",
    "# クラスタリング画　保存\n",
    "#=============================================\n",
    "plt.savefig(output_dpath + '\\\\クラスタリング.png')\n",
    "plt.show()"
   ]
  },
  {
   "cell_type": "code",
   "execution_count": 9,
   "id": "1a024c0b-a1a1-42ab-9586-1634b40a82cc",
   "metadata": {},
   "outputs": [],
   "source": [
    "#=============================================\n",
    "#  ① クラスタリング位置指定　：　y軸 閾値\n",
    "#=============================================\n",
    "labels_distance = fcluster(Z, t=threshold_distance, criterion='distance')\n",
    "\n",
    "# 結果をDataFrameに\n",
    "df_distance = df.copy()\n",
    "df_distance[\"cluster\"] = labels_distance\n",
    "\n",
    "# クラスタリング画のx軸 左からの 顧客idの順番で並べ替え\n",
    "ordered_df_distance = df_distance.iloc[dendro[\"leaves\"]].reset_index(drop=True)\n",
    "#=============================================\n",
    "# CSV出力\n",
    "#=============================================-\n",
    "ordered_df_distance.to_csv(\n",
    "    output_dpath + '\\\\クラスタリング結果_距離' + str(threshold_distance) + '_並べ替え.csv',\n",
    "    index=False,\n",
    "    encoding='utf-8-sig'\n",
    ")"
   ]
  },
  {
   "cell_type": "code",
   "execution_count": 10,
   "id": "f32b042a-0c53-4205-b50b-bdc4cc4a88b2",
   "metadata": {},
   "outputs": [
    {
     "name": "stdout",
     "output_type": "stream",
     "text": [
      "処理完了\n"
     ]
    }
   ],
   "source": [
    "#=============================================-\n",
    "# ② クラスタリング数指定　 ：　指定数\n",
    "#=============================================-\n",
    "labels_maxclust = fcluster(Z, t=criter, criterion='maxclust')\n",
    "\n",
    "# 結果をDataFrameに\n",
    "df_maxclust = df.copy()\n",
    "# サンプルデータの右端にクラスタリングNoを追加する形式\n",
    "df_maxclust['cluster'] = labels_maxclust\n",
    "\n",
    "#=============================================-\n",
    "# CSV出力\n",
    "#=============================================-\n",
    "df_maxclust.to_csv(\n",
    "    output_dpath + '\\\\クラスタリング結果_クラスタ数_' + str(criter) + '_.csv',\n",
    "    index=False,\n",
    "    encoding='utf-8-sig'\n",
    ")\n",
    "\n",
    "#=============================================\n",
    "# 保存フォルダ開く\n",
    "#=============================================\n",
    "os.startfile(os.path.realpath(output_dpath) + '\\\\')\n",
    "\n",
    "print('処理完了')  "
   ]
  },
  {
   "cell_type": "code",
   "execution_count": null,
   "id": "d0f4d940-ddde-40ad-82d8-d468d3e38b79",
   "metadata": {},
   "outputs": [],
   "source": []
  }
 ],
 "metadata": {
  "kernelspec": {
   "display_name": "Python 3 (ipykernel)",
   "language": "python",
   "name": "python3"
  },
  "language_info": {
   "codemirror_mode": {
    "name": "ipython",
    "version": 3
   },
   "file_extension": ".py",
   "mimetype": "text/x-python",
   "name": "python",
   "nbconvert_exporter": "python",
   "pygments_lexer": "ipython3",
   "version": "3.8.10"
  }
 },
 "nbformat": 4,
 "nbformat_minor": 5
}
